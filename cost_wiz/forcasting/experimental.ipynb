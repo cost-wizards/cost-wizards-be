{
 "cells": [
  {
   "cell_type": "code",
   "execution_count": 70,
   "metadata": {},
   "outputs": [],
   "source": [
    "from cost_wiz.db import Instance, InstanceStat\n",
    "import pandas as pd\n",
    "from darts import TimeSeries\n",
    "from cost_wiz.config.settings import EnvSettings\n",
    "from sqlalchemy import create_engine\n",
    "from sqlalchemy.orm import sessionmaker\n",
    "from sqlalchemy.ext.declarative import declarative_base\n",
    "\n",
    "env: EnvSettings = EnvSettings()\n",
    "\n",
    "# Directly define the database connection string\n",
    "DATABASE_URL = f\"postgresql://{env.db_username}:{env.db_password}@{env.db_host_name}:{env.db_port}/{env.db_name}\"\n",
    "\n",
    "engine = create_engine(DATABASE_URL, echo=True)\n",
    "SessionLocal = sessionmaker(autocommit=False, autoflush=False, bind=engine)\n",
    "Base = declarative_base()\n",
    "session = SessionLocal()"
   ]
  },
  {
   "cell_type": "code",
   "execution_count": 71,
   "metadata": {},
   "outputs": [
    {
     "name": "stdout",
     "output_type": "stream",
     "text": [
      "2024-04-06 21:55:21,500 INFO sqlalchemy.engine.Engine select pg_catalog.version()\n",
      "2024-04-06 21:55:21,502 INFO sqlalchemy.engine.Engine [raw sql] {}\n",
      "2024-04-06 21:55:22,223 INFO sqlalchemy.engine.Engine select current_schema()\n",
      "2024-04-06 21:55:22,224 INFO sqlalchemy.engine.Engine [raw sql] {}\n",
      "2024-04-06 21:55:22,803 INFO sqlalchemy.engine.Engine show standard_conforming_strings\n",
      "2024-04-06 21:55:22,805 INFO sqlalchemy.engine.Engine [raw sql] {}\n",
      "2024-04-06 21:55:23,455 INFO sqlalchemy.engine.Engine BEGIN (implicit)\n",
      "2024-04-06 21:55:23,459 INFO sqlalchemy.engine.Engine SELECT instance.instance_type AS instance_instance_type, instance_stats.timestamp AS instance_stats_timestamp, instance_stats.max_cpu_usage AS instance_stats_max_cpu_usage, instance_stats.max_mem_usage AS instance_stats_max_mem_usage \n",
      "FROM instance JOIN instance_stats ON instance.instance_id = instance_stats.instance_id \n",
      "WHERE instance.instance_type = %(instance_type_1)s\n",
      "2024-04-06 21:55:23,460 INFO sqlalchemy.engine.Engine [generated in 0.00119s] {'instance_type_1': 't3.micro'}\n",
      "2024-04-06 21:55:27,257 INFO sqlalchemy.engine.Engine ROLLBACK\n"
     ]
    },
    {
     "data": {
      "text/html": [
       "<div>\n",
       "<style scoped>\n",
       "    .dataframe tbody tr th:only-of-type {\n",
       "        vertical-align: middle;\n",
       "    }\n",
       "\n",
       "    .dataframe tbody tr th {\n",
       "        vertical-align: top;\n",
       "    }\n",
       "\n",
       "    .dataframe thead th {\n",
       "        text-align: right;\n",
       "    }\n",
       "</style>\n",
       "<table border=\"1\" class=\"dataframe\">\n",
       "  <thead>\n",
       "    <tr style=\"text-align: right;\">\n",
       "      <th></th>\n",
       "      <th>instance_name</th>\n",
       "      <th>timestamp</th>\n",
       "      <th>max_cpu_usage</th>\n",
       "      <th>max_mem_usage</th>\n",
       "    </tr>\n",
       "  </thead>\n",
       "  <tbody>\n",
       "    <tr>\n",
       "      <th>0</th>\n",
       "      <td>t3.micro</td>\n",
       "      <td>2022-04-05 15:00:00</td>\n",
       "      <td>34.538212</td>\n",
       "      <td>58.025048</td>\n",
       "    </tr>\n",
       "    <tr>\n",
       "      <th>1</th>\n",
       "      <td>t3.micro</td>\n",
       "      <td>2022-04-05 16:00:00</td>\n",
       "      <td>64.905463</td>\n",
       "      <td>56.543621</td>\n",
       "    </tr>\n",
       "    <tr>\n",
       "      <th>2</th>\n",
       "      <td>t3.micro</td>\n",
       "      <td>2022-04-05 17:00:00</td>\n",
       "      <td>73.656384</td>\n",
       "      <td>56.276776</td>\n",
       "    </tr>\n",
       "    <tr>\n",
       "      <th>3</th>\n",
       "      <td>t3.micro</td>\n",
       "      <td>2022-04-05 18:00:00</td>\n",
       "      <td>39.680856</td>\n",
       "      <td>18.028086</td>\n",
       "    </tr>\n",
       "    <tr>\n",
       "      <th>4</th>\n",
       "      <td>t3.micro</td>\n",
       "      <td>2022-04-05 19:00:00</td>\n",
       "      <td>19.745643</td>\n",
       "      <td>28.012249</td>\n",
       "    </tr>\n",
       "  </tbody>\n",
       "</table>\n",
       "</div>"
      ],
      "text/plain": [
       "  instance_name           timestamp  max_cpu_usage  max_mem_usage\n",
       "0      t3.micro 2022-04-05 15:00:00      34.538212      58.025048\n",
       "1      t3.micro 2022-04-05 16:00:00      64.905463      56.543621\n",
       "2      t3.micro 2022-04-05 17:00:00      73.656384      56.276776\n",
       "3      t3.micro 2022-04-05 18:00:00      39.680856      18.028086\n",
       "4      t3.micro 2022-04-05 19:00:00      19.745643      28.012249"
      ]
     },
     "execution_count": 71,
     "metadata": {},
     "output_type": "execute_result"
    }
   ],
   "source": [
    "# Perform a join between Instance and InstanceStat, filtering for t3.micro instance type\n",
    "instance_stats = session.query(\n",
    "    Instance.instance_type,\n",
    "    InstanceStat.timestamp,\n",
    "    InstanceStat.max_cpu_usage,\n",
    "    InstanceStat.max_mem_usage,\n",
    ").join(InstanceStat, Instance.instance_id == InstanceStat.instance_id)\\\n",
    " .filter(Instance.instance_type == \"t3.micro\")\\\n",
    " .all()\n",
    "session.close()\n",
    "# Convert query results to a Pandas DataFrame\n",
    "df = pd.DataFrame(instance_stats, columns=[\"instance_name\", \"timestamp\", \"max_cpu_usage\", \"max_mem_usage\"])\n",
    "df['timestamp'] = pd.to_datetime(df['timestamp'])\n",
    "df['timestamp'] = df['timestamp'].dt.floor('H')\n",
    "df.head()"
   ]
  },
  {
   "cell_type": "code",
   "execution_count": 72,
   "metadata": {},
   "outputs": [],
   "source": [
    "df = df.drop_duplicates(subset='timestamp')"
   ]
  },
  {
   "cell_type": "code",
   "execution_count": 73,
   "metadata": {},
   "outputs": [],
   "source": [
    "df.set_index('timestamp', inplace=True)"
   ]
  },
  {
   "cell_type": "code",
   "execution_count": 74,
   "metadata": {},
   "outputs": [],
   "source": [
    "idx = pd.date_range(start=df.index.min(), end=df.index.max(), freq='H')\n",
    "df = df.reindex(idx)"
   ]
  },
  {
   "cell_type": "code",
   "execution_count": 75,
   "metadata": {},
   "outputs": [
    {
     "data": {
      "text/html": [
       "<div>\n",
       "<style scoped>\n",
       "    .dataframe tbody tr th:only-of-type {\n",
       "        vertical-align: middle;\n",
       "    }\n",
       "\n",
       "    .dataframe tbody tr th {\n",
       "        vertical-align: top;\n",
       "    }\n",
       "\n",
       "    .dataframe thead th {\n",
       "        text-align: right;\n",
       "    }\n",
       "</style>\n",
       "<table border=\"1\" class=\"dataframe\">\n",
       "  <thead>\n",
       "    <tr style=\"text-align: right;\">\n",
       "      <th></th>\n",
       "      <th>instance_name</th>\n",
       "      <th>max_cpu_usage</th>\n",
       "      <th>max_mem_usage</th>\n",
       "    </tr>\n",
       "  </thead>\n",
       "  <tbody>\n",
       "    <tr>\n",
       "      <th>2022-04-05 15:00:00</th>\n",
       "      <td>t3.micro</td>\n",
       "      <td>34.538212</td>\n",
       "      <td>58.025048</td>\n",
       "    </tr>\n",
       "    <tr>\n",
       "      <th>2022-04-05 16:00:00</th>\n",
       "      <td>t3.micro</td>\n",
       "      <td>64.905463</td>\n",
       "      <td>56.543621</td>\n",
       "    </tr>\n",
       "    <tr>\n",
       "      <th>2022-04-05 17:00:00</th>\n",
       "      <td>t3.micro</td>\n",
       "      <td>73.656384</td>\n",
       "      <td>56.276776</td>\n",
       "    </tr>\n",
       "    <tr>\n",
       "      <th>2022-04-05 18:00:00</th>\n",
       "      <td>t3.micro</td>\n",
       "      <td>39.680856</td>\n",
       "      <td>18.028086</td>\n",
       "    </tr>\n",
       "    <tr>\n",
       "      <th>2022-04-05 19:00:00</th>\n",
       "      <td>t3.micro</td>\n",
       "      <td>19.745643</td>\n",
       "      <td>28.012249</td>\n",
       "    </tr>\n",
       "    <tr>\n",
       "      <th>...</th>\n",
       "      <td>...</td>\n",
       "      <td>...</td>\n",
       "      <td>...</td>\n",
       "    </tr>\n",
       "    <tr>\n",
       "      <th>2023-04-05 11:00:00</th>\n",
       "      <td>t3.micro</td>\n",
       "      <td>14.381090</td>\n",
       "      <td>31.629587</td>\n",
       "    </tr>\n",
       "    <tr>\n",
       "      <th>2023-04-05 12:00:00</th>\n",
       "      <td>t3.micro</td>\n",
       "      <td>9.155604</td>\n",
       "      <td>79.261359</td>\n",
       "    </tr>\n",
       "    <tr>\n",
       "      <th>2023-04-05 13:00:00</th>\n",
       "      <td>t3.micro</td>\n",
       "      <td>70.445576</td>\n",
       "      <td>66.141116</td>\n",
       "    </tr>\n",
       "    <tr>\n",
       "      <th>2023-04-05 14:00:00</th>\n",
       "      <td>t3.micro</td>\n",
       "      <td>43.516431</td>\n",
       "      <td>26.458243</td>\n",
       "    </tr>\n",
       "    <tr>\n",
       "      <th>2023-04-05 15:00:00</th>\n",
       "      <td>t3.micro</td>\n",
       "      <td>19.006685</td>\n",
       "      <td>45.873463</td>\n",
       "    </tr>\n",
       "  </tbody>\n",
       "</table>\n",
       "<p>8761 rows × 3 columns</p>\n",
       "</div>"
      ],
      "text/plain": [
       "                    instance_name  max_cpu_usage  max_mem_usage\n",
       "2022-04-05 15:00:00      t3.micro      34.538212      58.025048\n",
       "2022-04-05 16:00:00      t3.micro      64.905463      56.543621\n",
       "2022-04-05 17:00:00      t3.micro      73.656384      56.276776\n",
       "2022-04-05 18:00:00      t3.micro      39.680856      18.028086\n",
       "2022-04-05 19:00:00      t3.micro      19.745643      28.012249\n",
       "...                           ...            ...            ...\n",
       "2023-04-05 11:00:00      t3.micro      14.381090      31.629587\n",
       "2023-04-05 12:00:00      t3.micro       9.155604      79.261359\n",
       "2023-04-05 13:00:00      t3.micro      70.445576      66.141116\n",
       "2023-04-05 14:00:00      t3.micro      43.516431      26.458243\n",
       "2023-04-05 15:00:00      t3.micro      19.006685      45.873463\n",
       "\n",
       "[8761 rows x 3 columns]"
      ]
     },
     "execution_count": 75,
     "metadata": {},
     "output_type": "execute_result"
    }
   ],
   "source": [
    "df"
   ]
  },
  {
   "cell_type": "code",
   "execution_count": 76,
   "metadata": {},
   "outputs": [
    {
     "name": "stderr",
     "output_type": "stream",
     "text": [
      "/home/leapfrog/anaconda3/envs/cost-wizards-be/lib/python3.8/site-packages/torch/nn/modules/transformer.py:286: UserWarning: enable_nested_tensor is True, but self.use_nested_tensor is False because encoder_layer.self_attn.batch_first was not True(use batch_first for better inference performance)\n",
      "  warnings.warn(f\"enable_nested_tensor is True, but self.use_nested_tensor is False because {why_not_sparsity_fast_path}\")\n",
      "GPU available: True (cuda), used: True\n",
      "TPU available: False, using: 0 TPU cores\n",
      "IPU available: False, using: 0 IPUs\n",
      "HPU available: False, using: 0 HPUs\n",
      "You are using a CUDA device ('NVIDIA GeForce RTX 3050 Ti Laptop GPU') that has Tensor Cores. To properly utilize them, you should set `torch.set_float32_matmul_precision('medium' | 'high')` which will trade-off precision for performance. For more details, read https://pytorch.org/docs/stable/generated/torch.set_float32_matmul_precision.html#torch.set_float32_matmul_precision\n",
      "LOCAL_RANK: 0 - CUDA_VISIBLE_DEVICES: [0]\n",
      "\n",
      "  | Name                | Type                | Params\n",
      "------------------------------------------------------------\n",
      "0 | criterion           | MSELoss             | 0     \n",
      "1 | train_metrics       | MetricCollection    | 0     \n",
      "2 | val_metrics         | MetricCollection    | 0     \n",
      "3 | encoder             | Linear              | 128   \n",
      "4 | positional_encoding | _PositionalEncoding | 0     \n",
      "5 | transformer         | Transformer         | 548 K \n",
      "6 | decoder             | Linear              | 650   \n",
      "------------------------------------------------------------\n",
      "549 K     Trainable params\n",
      "0         Non-trainable params\n",
      "549 K     Total params\n",
      "2.198     Total estimated model params size (MB)\n"
     ]
    },
    {
     "name": "stdout",
     "output_type": "stream",
     "text": [
      "Epoch 99: 100%|██████████| 219/219 [00:03<00:00, 68.94it/s, train_loss=421.0] "
     ]
    },
    {
     "name": "stderr",
     "output_type": "stream",
     "text": [
      "`Trainer.fit` stopped: `max_epochs=100` reached.\n"
     ]
    },
    {
     "name": "stdout",
     "output_type": "stream",
     "text": [
      "Epoch 99: 100%|██████████| 219/219 [00:03<00:00, 68.92it/s, train_loss=421.0]\n"
     ]
    },
    {
     "data": {
      "text/plain": [
       "TransformerModel(output_chunk_shift=0, d_model=64, nhead=4, num_encoder_layers=3, num_decoder_layers=3, dim_feedforward=512, dropout=0.1, activation=relu, norm_type=None, custom_encoder=None, custom_decoder=None, input_chunk_length=10, output_chunk_length=10)"
      ]
     },
     "execution_count": 76,
     "metadata": {},
     "output_type": "execute_result"
    }
   ],
   "source": [
    "from darts.utils.timeseries_generation import gaussian_timeseries\n",
    "from darts.utils.timeseries_generation import datetime_attribute_timeseries\n",
    "from darts.models import AutoARIMA\n",
    "from darts.models.forecasting.transformer_model import TransformerModel\n",
    "from darts.utils.statistics import check_seasonality, plot_acf\n",
    "\n",
    "train_size = int(len(df) * 0.9)\n",
    "ts_train = df['max_cpu_usage'][:train_size]\n",
    "ts_valid = df['max_cpu_usage'][train_size:]\n",
    "\n",
    "train_series = TimeSeries.from_series(ts_train)\n",
    "valid_series = TimeSeries.from_series(ts_valid)\n",
    "\n",
    "model = TransformerModel(input_chunk_length=10, output_chunk_length=10)\n",
    "model.fit(train_series)"
   ]
  },
  {
   "cell_type": "code",
   "execution_count": 77,
   "metadata": {},
   "outputs": [
    {
     "name": "stderr",
     "output_type": "stream",
     "text": [
      "GPU available: True (cuda), used: True\n",
      "TPU available: False, using: 0 TPU cores\n",
      "IPU available: False, using: 0 IPUs\n",
      "HPU available: False, using: 0 HPUs\n",
      "LOCAL_RANK: 0 - CUDA_VISIBLE_DEVICES: [0]\n"
     ]
    },
    {
     "name": "stdout",
     "output_type": "stream",
     "text": [
      "Predicting DataLoader 0: 100%|██████████| 1/1 [00:00<00:00,  4.23it/s]\n"
     ]
    }
   ],
   "source": [
    "# Make predictions on the validation set\n",
    "len(valid_series)\n",
    "predictions = model.predict(len(valid_series))"
   ]
  },
  {
   "cell_type": "code",
   "execution_count": 78,
   "metadata": {},
   "outputs": [],
   "source": [
    "from darts.metrics import mape, mase\n",
    "\n",
    "m_a_p_e = mape(valid_series, predictions)\n",
    "m_a_s_e = mase(valid_series, predictions, train_series)"
   ]
  },
  {
   "cell_type": "code",
   "execution_count": 79,
   "metadata": {},
   "outputs": [
    {
     "data": {
      "text/plain": [
       "77.43405153821533"
      ]
     },
     "execution_count": 79,
     "metadata": {},
     "output_type": "execute_result"
    }
   ],
   "source": [
    "m_a_p_e"
   ]
  },
  {
   "cell_type": "code",
   "execution_count": 80,
   "metadata": {},
   "outputs": [
    {
     "data": {
      "text/plain": [
       "0.7429921183407427"
      ]
     },
     "execution_count": 80,
     "metadata": {},
     "output_type": "execute_result"
    }
   ],
   "source": [
    "m_a_s_e"
   ]
  },
  {
   "cell_type": "code",
   "execution_count": 81,
   "metadata": {},
   "outputs": [
    {
     "data": {
      "text/plain": [
       "<Axes: xlabel='time'>"
      ]
     },
     "execution_count": 81,
     "metadata": {},
     "output_type": "execute_result"
    },
    {
     "data": {
      "image/png": "[encoded data removed]",
      "text/plain": [
       "<Figure size 640x480 with 1 Axes>"
      ]
     },
     "metadata": {},
     "output_type": "display_data"
    }
   ],
   "source": [
    "predictions.plot()"
   ]
  },
  {
   "cell_type": "code",
   "execution_count": 89,
   "metadata": {},
   "outputs": [
    {
     "name": "stderr",
     "output_type": "stream",
     "text": [
      "GPU available: True (cuda), used: True\n",
      "TPU available: False, using: 0 TPU cores\n",
      "IPU available: False, using: 0 IPUs\n",
      "HPU available: False, using: 0 HPUs\n",
      "LOCAL_RANK: 0 - CUDA_VISIBLE_DEVICES: [0]\n"
     ]
    },
    {
     "name": "stdout",
     "output_type": "stream",
     "text": [
      "Predicting DataLoader 0: 100%|██████████| 1/1 [00:00<00:00,  3.67it/s]\n"
     ]
    },
    {
     "data": {
      "text/plain": [
       "<Axes: xlabel='time'>"
      ]
     },
     "execution_count": 89,
     "metadata": {},
     "output_type": "execute_result"
    },
    {
     "data": {
      "image/png": "[encoded data removed]",
      "text/plain": [
       "<Figure size 640x480 with 1 Axes>"
      ]
     },
     "metadata": {},
     "output_type": "display_data"
    }
   ],
   "source": [
    "predict = model.predict(n=1801)\n",
    "predict[:48].plot()"
   ]
  },
  {
   "cell_type": "code",
   "execution_count": 83,
   "metadata": {},
   "outputs": [
    {
     "data": {
      "text/plain": [
       "1753"
      ]
     },
     "execution_count": 83,
     "metadata": {},
     "output_type": "execute_result"
    }
   ],
   "source": [
    "import matplotlib.pyplot as plt\n",
    "plt.figure(figsize=(10, 6))\n",
    "plt.plot(time, data1, label='Line 1')\n",
    "plt.plot(time, data2, label='Line 2')\n",
    "plt.xlabel('Time')\n",
    "plt.ylabel('Value')\n",
    "plt.title('Time Series Data')\n",
    "plt.legend()\n",
    "plt.grid(True)\n",
    "plt.show()"
   ]
  },
  {
   "cell_type": "code",
   "execution_count": 90,
   "metadata": {},
   "outputs": [],
   "source": [
    "model.save('time_series.pt')"
   ]
  }
 ],
 "metadata": {
  "kernelspec": {
   "display_name": "cost-wizards-be",
   "language": "python",
   "name": "python3"
  },
  "language_info": {
   "codemirror_mode": {
    "name": "ipython",
    "version": 3
   },
   "file_extension": ".py",
   "mimetype": "text/x-python",
   "name": "python",
   "nbconvert_exporter": "python",
   "pygments_lexer": "ipython3",
   "version": "3.8.19"
  }
 },
 "nbformat": 4,
 "nbformat_minor": 2
}
